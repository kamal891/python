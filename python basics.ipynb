{
 "cells": [
  {
   "cell_type": "code",
   "execution_count": 10,
   "id": "4e140e32",
   "metadata": {},
   "outputs": [
    {
     "name": "stdout",
     "output_type": "stream",
     "text": [
      "Enter a number to check prime or not: 17\n",
      "The number  17 is a prime number\n"
     ]
    }
   ],
   "source": [
    "# Function to check prime number  \n",
    "def PrimeChecking(num):  \n",
    "    if num > 1:  \n",
    "        for i in range(2, int(num/2) + 1):  \n",
    "            if (num % i) == 0:  \n",
    "                print(\"The number \",num, \"is not a prime number\")  \n",
    "                break   \n",
    "        else:  \n",
    "            print(\"The number \",num, \"is a prime number\")   \n",
    "    else:  \n",
    "        print(\"The number \",num, \"is not a prime number\")  \n",
    "num = int(input(\"Enter a number to check prime or not: \"))  \n",
    "PrimeChecking(num)  "
   ]
  },
  {
   "cell_type": "code",
   "execution_count": 14,
   "id": "d63e0785",
   "metadata": {},
   "outputs": [
    {
     "name": "stdout",
     "output_type": "stream",
     "text": [
      "Please enter a number to find the factorial: 6\n",
      "The factorial of the given number 6 is 720\n"
     ]
    }
   ],
   "source": [
    "import math\n",
    "def factorial(num):\n",
    "\treturn(math.factorial(num))\n",
    "num = int(input('Please enter a number to find the factorial: '))\n",
    "print(\"The factorial of the given number\", num, \"is\",\n",
    "\tfactorial(num)"
   ]
  },
  {
   "cell_type": "code",
   "execution_count": 20,
   "id": "4281cf37",
   "metadata": {},
   "outputs": [
    {
     "name": "stdout",
     "output_type": "stream",
     "text": [
      "enter a number to find the factorial: 5\n",
      "The factorial of given number 5 is 120\n"
     ]
    }
   ],
   "source": [
    "import math\n",
    "def factorial(num):\n",
    "    return (math.factorial(num))\n",
    "num=int(input(\"enter a number to find the factorial: \"))\n",
    "print(\"The factorial of given number\",num,\"is\",\n",
    "    factorial(num))"
   ]
  },
  {
   "cell_type": "code",
   "execution_count": 22,
   "id": "013e5343",
   "metadata": {},
   "outputs": [
    {
     "name": "stdout",
     "output_type": "stream",
     "text": [
      "Enter a number: 36\n",
      "The square root of 36.0 is 6.0\n"
     ]
    }
   ],
   "source": [
    "n = float(input('Enter a number: '))\n",
    "n_sqrt = n ** 0.5\n",
    "print('The square root of {} is {}'.format(n ,n_sqrt))"
   ]
  },
  {
   "cell_type": "code",
   "execution_count": null,
   "id": "3f016611",
   "metadata": {},
   "outputs": [],
   "source": []
  },
  {
   "cell_type": "code",
   "execution_count": null,
   "id": "4331b3fe",
   "metadata": {},
   "outputs": [],
   "source": []
  }
 ],
 "metadata": {
  "kernelspec": {
   "display_name": "Python 3 (ipykernel)",
   "language": "python",
   "name": "python3"
  },
  "language_info": {
   "codemirror_mode": {
    "name": "ipython",
    "version": 3
   },
   "file_extension": ".py",
   "mimetype": "text/x-python",
   "name": "python",
   "nbconvert_exporter": "python",
   "pygments_lexer": "ipython3",
   "version": "3.10.9"
  }
 },
 "nbformat": 4,
 "nbformat_minor": 5
}
